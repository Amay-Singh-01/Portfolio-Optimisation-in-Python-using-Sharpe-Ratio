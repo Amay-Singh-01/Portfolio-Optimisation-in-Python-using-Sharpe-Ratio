{
 "cells": [
  {
   "cell_type": "code",
   "execution_count": 1,
   "metadata": {
    "id": "98JTTucugmXo"
   },
   "outputs": [],
   "source": [
    "# 1) Using Sharpe ratio to optimise Portfolio for high returns\n",
    "\n",
    "from pandas_datareader import data as web\n",
    "import pandas as pd\n",
    "import numpy as np\n",
    "from datetime import datetime\n",
    "import matplotlib.pyplot as plt\n",
    "import yfinance\n",
    "plt.style.use('fivethirtyeight')"
   ]
  },
  {
   "cell_type": "code",
   "execution_count": 2,
   "metadata": {
    "id": "FXi-Y74mhF4y"
   },
   "outputs": [],
   "source": [
    "# The 5 companies for which we will be optimising our portfolio\n",
    "assets = ['TSLA','AMZN','AAPL','NFLX','MSFT']"
   ]
  },
  {
   "cell_type": "code",
   "execution_count": 3,
   "metadata": {
    "id": "mZg62IrDhWlf"
   },
   "outputs": [],
   "source": [
    "# Assigning initial weights (arbitary)\n",
    "weights = np.array([0.2,0.2,0.2,0.2,0.2])"
   ]
  },
  {
   "cell_type": "code",
   "execution_count": 4,
   "metadata": {
    "id": "mJpqbeD2hgbW"
   },
   "outputs": [],
   "source": [
    "stockStartDate = '2013-01-01'"
   ]
  },
  {
   "cell_type": "code",
   "execution_count": 5,
   "metadata": {
    "id": "ogmcte8UhsfA"
   },
   "outputs": [],
   "source": [
    "stockEndDate = '2020-03-01'"
   ]
  },
  {
   "cell_type": "code",
   "execution_count": 6,
   "metadata": {
    "colab": {
     "base_uri": "https://localhost:8080/",
     "height": 588
    },
    "id": "OgWEicAbiApk",
    "outputId": "27d6b24c-97f5-4fdd-95c3-c8800b7e05b4"
   },
   "outputs": [
    {
     "name": "stdout",
     "output_type": "stream",
     "text": [
      "[*********************100%***********************]  1 of 1 completed\n",
      "[*********************100%***********************]  1 of 1 completed\n",
      "[*********************100%***********************]  1 of 1 completed\n",
      "[*********************100%***********************]  1 of 1 completed\n",
      "[*********************100%***********************]  1 of 1 completed\n"
     ]
    },
    {
     "data": {
      "text/html": [
       "<div>\n",
       "<style scoped>\n",
       "    .dataframe tbody tr th:only-of-type {\n",
       "        vertical-align: middle;\n",
       "    }\n",
       "\n",
       "    .dataframe tbody tr th {\n",
       "        vertical-align: top;\n",
       "    }\n",
       "\n",
       "    .dataframe thead th {\n",
       "        text-align: right;\n",
       "    }\n",
       "</style>\n",
       "<table border=\"1\" class=\"dataframe\">\n",
       "  <thead>\n",
       "    <tr style=\"text-align: right;\">\n",
       "      <th></th>\n",
       "      <th>TSLA</th>\n",
       "      <th>AMZN</th>\n",
       "      <th>AAPL</th>\n",
       "      <th>NFLX</th>\n",
       "      <th>MSFT</th>\n",
       "    </tr>\n",
       "    <tr>\n",
       "      <th>Date</th>\n",
       "      <th></th>\n",
       "      <th></th>\n",
       "      <th></th>\n",
       "      <th></th>\n",
       "      <th></th>\n",
       "    </tr>\n",
       "  </thead>\n",
       "  <tbody>\n",
       "    <tr>\n",
       "      <th>2012-12-31</th>\n",
       "      <td>6.774000</td>\n",
       "      <td>12.543500</td>\n",
       "      <td>16.394844</td>\n",
       "      <td>13.227143</td>\n",
       "      <td>22.133270</td>\n",
       "    </tr>\n",
       "    <tr>\n",
       "      <th>2013-01-02</th>\n",
       "      <td>7.072000</td>\n",
       "      <td>12.865500</td>\n",
       "      <td>16.914259</td>\n",
       "      <td>13.144286</td>\n",
       "      <td>22.887344</td>\n",
       "    </tr>\n",
       "    <tr>\n",
       "      <th>2013-01-03</th>\n",
       "      <td>6.954000</td>\n",
       "      <td>12.924000</td>\n",
       "      <td>16.700766</td>\n",
       "      <td>13.798571</td>\n",
       "      <td>22.580748</td>\n",
       "    </tr>\n",
       "    <tr>\n",
       "      <th>2013-01-04</th>\n",
       "      <td>6.880000</td>\n",
       "      <td>12.957500</td>\n",
       "      <td>16.235571</td>\n",
       "      <td>13.711429</td>\n",
       "      <td>22.158129</td>\n",
       "    </tr>\n",
       "    <tr>\n",
       "      <th>2013-01-07</th>\n",
       "      <td>6.868000</td>\n",
       "      <td>13.423000</td>\n",
       "      <td>16.140064</td>\n",
       "      <td>14.171429</td>\n",
       "      <td>22.116699</td>\n",
       "    </tr>\n",
       "    <tr>\n",
       "      <th>...</th>\n",
       "      <td>...</td>\n",
       "      <td>...</td>\n",
       "      <td>...</td>\n",
       "      <td>...</td>\n",
       "      <td>...</td>\n",
       "    </tr>\n",
       "    <tr>\n",
       "      <th>2020-02-24</th>\n",
       "      <td>166.757996</td>\n",
       "      <td>100.464500</td>\n",
       "      <td>73.426674</td>\n",
       "      <td>368.700012</td>\n",
       "      <td>167.414139</td>\n",
       "    </tr>\n",
       "    <tr>\n",
       "      <th>2020-02-25</th>\n",
       "      <td>159.981995</td>\n",
       "      <td>98.637001</td>\n",
       "      <td>70.939560</td>\n",
       "      <td>360.089996</td>\n",
       "      <td>164.651489</td>\n",
       "    </tr>\n",
       "    <tr>\n",
       "      <th>2020-02-26</th>\n",
       "      <td>155.759995</td>\n",
       "      <td>98.979500</td>\n",
       "      <td>72.064903</td>\n",
       "      <td>379.239990</td>\n",
       "      <td>166.708740</td>\n",
       "    </tr>\n",
       "    <tr>\n",
       "      <th>2020-02-27</th>\n",
       "      <td>135.800003</td>\n",
       "      <td>94.214996</td>\n",
       "      <td>67.354156</td>\n",
       "      <td>371.709991</td>\n",
       "      <td>154.962646</td>\n",
       "    </tr>\n",
       "    <tr>\n",
       "      <th>2020-02-28</th>\n",
       "      <td>133.598007</td>\n",
       "      <td>94.187500</td>\n",
       "      <td>67.314751</td>\n",
       "      <td>369.029999</td>\n",
       "      <td>158.714722</td>\n",
       "    </tr>\n",
       "  </tbody>\n",
       "</table>\n",
       "<p>1803 rows × 5 columns</p>\n",
       "</div>"
      ],
      "text/plain": [
       "                  TSLA        AMZN       AAPL        NFLX        MSFT\n",
       "Date                                                                 \n",
       "2012-12-31    6.774000   12.543500  16.394844   13.227143   22.133270\n",
       "2013-01-02    7.072000   12.865500  16.914259   13.144286   22.887344\n",
       "2013-01-03    6.954000   12.924000  16.700766   13.798571   22.580748\n",
       "2013-01-04    6.880000   12.957500  16.235571   13.711429   22.158129\n",
       "2013-01-07    6.868000   13.423000  16.140064   14.171429   22.116699\n",
       "...                ...         ...        ...         ...         ...\n",
       "2020-02-24  166.757996  100.464500  73.426674  368.700012  167.414139\n",
       "2020-02-25  159.981995   98.637001  70.939560  360.089996  164.651489\n",
       "2020-02-26  155.759995   98.979500  72.064903  379.239990  166.708740\n",
       "2020-02-27  135.800003   94.214996  67.354156  371.709991  154.962646\n",
       "2020-02-28  133.598007   94.187500  67.314751  369.029999  158.714722\n",
       "\n",
       "[1803 rows x 5 columns]"
      ]
     },
     "execution_count": 6,
     "metadata": {},
     "output_type": "execute_result"
    }
   ],
   "source": [
    "df = pd.DataFrame()\n",
    "\n",
    "for stock in assets:\n",
    "  df[stock] = yfinance.download(tickers=stock, start=stockStartDate,end=stockEndDate, interval='1d')['Adj Close'] \n",
    "\n",
    "df"
   ]
  },
  {
   "cell_type": "code",
   "execution_count": 7,
   "metadata": {
    "id": "nsQYhd77imky"
   },
   "outputs": [
    {
     "data": {
      "image/png": "[encoded data removed]",
      "text/plain": [
       "<Figure size 432x288 with 1 Axes>"
      ]
     },
     "metadata": {},
     "output_type": "display_data"
    }
   ],
   "source": [
    "# Visual representation of the 5 stocks in the given 7 years 2 months duration\n",
    "\n",
    "title = 'Portfolio Adjusted Close Price History'\n",
    "my_stocks = df\n",
    "for c in my_stocks.columns.values:\n",
    "  plt.plot(my_stocks[c], label = c)\n",
    "\n",
    "plt.title(title)\n",
    "plt.xlabel('Time')\n",
    "plt.ylabel('Adj. Price USD ($)')\n",
    "plt.legend(my_stocks.columns.values, loc = 'upper left')\n",
    "plt.show()"
   ]
  },
  {
   "cell_type": "code",
   "execution_count": 8,
   "metadata": {
    "id": "KWQnQ6iEp3KD"
   },
   "outputs": [
    {
     "data": {
      "text/html": [
       "<div>\n",
       "<style scoped>\n",
       "    .dataframe tbody tr th:only-of-type {\n",
       "        vertical-align: middle;\n",
       "    }\n",
       "\n",
       "    .dataframe tbody tr th {\n",
       "        vertical-align: top;\n",
       "    }\n",
       "\n",
       "    .dataframe thead th {\n",
       "        text-align: right;\n",
       "    }\n",
       "</style>\n",
       "<table border=\"1\" class=\"dataframe\">\n",
       "  <thead>\n",
       "    <tr style=\"text-align: right;\">\n",
       "      <th></th>\n",
       "      <th>TSLA</th>\n",
       "      <th>AMZN</th>\n",
       "      <th>AAPL</th>\n",
       "      <th>NFLX</th>\n",
       "      <th>MSFT</th>\n",
       "    </tr>\n",
       "    <tr>\n",
       "      <th>Date</th>\n",
       "      <th></th>\n",
       "      <th></th>\n",
       "      <th></th>\n",
       "      <th></th>\n",
       "      <th></th>\n",
       "    </tr>\n",
       "  </thead>\n",
       "  <tbody>\n",
       "    <tr>\n",
       "      <th>2012-12-31</th>\n",
       "      <td>NaN</td>\n",
       "      <td>NaN</td>\n",
       "      <td>NaN</td>\n",
       "      <td>NaN</td>\n",
       "      <td>NaN</td>\n",
       "    </tr>\n",
       "    <tr>\n",
       "      <th>2013-01-02</th>\n",
       "      <td>0.043992</td>\n",
       "      <td>0.025671</td>\n",
       "      <td>0.031682</td>\n",
       "      <td>-0.006264</td>\n",
       "      <td>0.034070</td>\n",
       "    </tr>\n",
       "    <tr>\n",
       "      <th>2013-01-03</th>\n",
       "      <td>-0.016686</td>\n",
       "      <td>0.004547</td>\n",
       "      <td>-0.012622</td>\n",
       "      <td>0.049777</td>\n",
       "      <td>-0.013396</td>\n",
       "    </tr>\n",
       "    <tr>\n",
       "      <th>2013-01-04</th>\n",
       "      <td>-0.010641</td>\n",
       "      <td>0.002592</td>\n",
       "      <td>-0.027855</td>\n",
       "      <td>-0.006315</td>\n",
       "      <td>-0.018716</td>\n",
       "    </tr>\n",
       "    <tr>\n",
       "      <th>2013-01-07</th>\n",
       "      <td>-0.001744</td>\n",
       "      <td>0.035925</td>\n",
       "      <td>-0.005883</td>\n",
       "      <td>0.033549</td>\n",
       "      <td>-0.001870</td>\n",
       "    </tr>\n",
       "    <tr>\n",
       "      <th>...</th>\n",
       "      <td>...</td>\n",
       "      <td>...</td>\n",
       "      <td>...</td>\n",
       "      <td>...</td>\n",
       "      <td>...</td>\n",
       "    </tr>\n",
       "    <tr>\n",
       "      <th>2020-02-24</th>\n",
       "      <td>-0.074595</td>\n",
       "      <td>-0.041356</td>\n",
       "      <td>-0.047500</td>\n",
       "      <td>-0.029916</td>\n",
       "      <td>-0.043115</td>\n",
       "    </tr>\n",
       "    <tr>\n",
       "      <th>2020-02-25</th>\n",
       "      <td>-0.040634</td>\n",
       "      <td>-0.018190</td>\n",
       "      <td>-0.033872</td>\n",
       "      <td>-0.023352</td>\n",
       "      <td>-0.016502</td>\n",
       "    </tr>\n",
       "    <tr>\n",
       "      <th>2020-02-26</th>\n",
       "      <td>-0.026390</td>\n",
       "      <td>0.003472</td>\n",
       "      <td>0.015863</td>\n",
       "      <td>0.053181</td>\n",
       "      <td>0.012495</td>\n",
       "    </tr>\n",
       "    <tr>\n",
       "      <th>2020-02-27</th>\n",
       "      <td>-0.128146</td>\n",
       "      <td>-0.048136</td>\n",
       "      <td>-0.065368</td>\n",
       "      <td>-0.019855</td>\n",
       "      <td>-0.070459</td>\n",
       "    </tr>\n",
       "    <tr>\n",
       "      <th>2020-02-28</th>\n",
       "      <td>-0.016215</td>\n",
       "      <td>-0.000292</td>\n",
       "      <td>-0.000585</td>\n",
       "      <td>-0.007210</td>\n",
       "      <td>0.024213</td>\n",
       "    </tr>\n",
       "  </tbody>\n",
       "</table>\n",
       "<p>1803 rows × 5 columns</p>\n",
       "</div>"
      ],
      "text/plain": [
       "                TSLA      AMZN      AAPL      NFLX      MSFT\n",
       "Date                                                        \n",
       "2012-12-31       NaN       NaN       NaN       NaN       NaN\n",
       "2013-01-02  0.043992  0.025671  0.031682 -0.006264  0.034070\n",
       "2013-01-03 -0.016686  0.004547 -0.012622  0.049777 -0.013396\n",
       "2013-01-04 -0.010641  0.002592 -0.027855 -0.006315 -0.018716\n",
       "2013-01-07 -0.001744  0.035925 -0.005883  0.033549 -0.001870\n",
       "...              ...       ...       ...       ...       ...\n",
       "2020-02-24 -0.074595 -0.041356 -0.047500 -0.029916 -0.043115\n",
       "2020-02-25 -0.040634 -0.018190 -0.033872 -0.023352 -0.016502\n",
       "2020-02-26 -0.026390  0.003472  0.015863  0.053181  0.012495\n",
       "2020-02-27 -0.128146 -0.048136 -0.065368 -0.019855 -0.070459\n",
       "2020-02-28 -0.016215 -0.000292 -0.000585 -0.007210  0.024213\n",
       "\n",
       "[1803 rows x 5 columns]"
      ]
     },
     "execution_count": 8,
     "metadata": {},
     "output_type": "execute_result"
    }
   ],
   "source": [
    "# For daily returns\n",
    " \n",
    "returns = df.pct_change()\n",
    "returns"
   ]
  },
  {
   "cell_type": "code",
   "execution_count": 9,
   "metadata": {
    "id": "Gn3LntIwq7F7"
   },
   "outputs": [
    {
     "data": {
      "text/html": [
       "<div>\n",
       "<style scoped>\n",
       "    .dataframe tbody tr th:only-of-type {\n",
       "        vertical-align: middle;\n",
       "    }\n",
       "\n",
       "    .dataframe tbody tr th {\n",
       "        vertical-align: top;\n",
       "    }\n",
       "\n",
       "    .dataframe thead th {\n",
       "        text-align: right;\n",
       "    }\n",
       "</style>\n",
       "<table border=\"1\" class=\"dataframe\">\n",
       "  <thead>\n",
       "    <tr style=\"text-align: right;\">\n",
       "      <th></th>\n",
       "      <th>TSLA</th>\n",
       "      <th>AMZN</th>\n",
       "      <th>AAPL</th>\n",
       "      <th>NFLX</th>\n",
       "      <th>MSFT</th>\n",
       "    </tr>\n",
       "  </thead>\n",
       "  <tbody>\n",
       "    <tr>\n",
       "      <th>TSLA</th>\n",
       "      <td>0.261265</td>\n",
       "      <td>0.043682</td>\n",
       "      <td>0.030129</td>\n",
       "      <td>0.061630</td>\n",
       "      <td>0.032456</td>\n",
       "    </tr>\n",
       "    <tr>\n",
       "      <th>AMZN</th>\n",
       "      <td>0.043682</td>\n",
       "      <td>0.086579</td>\n",
       "      <td>0.027852</td>\n",
       "      <td>0.054602</td>\n",
       "      <td>0.034727</td>\n",
       "    </tr>\n",
       "    <tr>\n",
       "      <th>AAPL</th>\n",
       "      <td>0.030129</td>\n",
       "      <td>0.027852</td>\n",
       "      <td>0.063459</td>\n",
       "      <td>0.023451</td>\n",
       "      <td>0.027294</td>\n",
       "    </tr>\n",
       "    <tr>\n",
       "      <th>NFLX</th>\n",
       "      <td>0.061630</td>\n",
       "      <td>0.054602</td>\n",
       "      <td>0.023451</td>\n",
       "      <td>0.208546</td>\n",
       "      <td>0.034530</td>\n",
       "    </tr>\n",
       "    <tr>\n",
       "      <th>MSFT</th>\n",
       "      <td>0.032456</td>\n",
       "      <td>0.034727</td>\n",
       "      <td>0.027294</td>\n",
       "      <td>0.034530</td>\n",
       "      <td>0.053898</td>\n",
       "    </tr>\n",
       "  </tbody>\n",
       "</table>\n",
       "</div>"
      ],
      "text/plain": [
       "          TSLA      AMZN      AAPL      NFLX      MSFT\n",
       "TSLA  0.261265  0.043682  0.030129  0.061630  0.032456\n",
       "AMZN  0.043682  0.086579  0.027852  0.054602  0.034727\n",
       "AAPL  0.030129  0.027852  0.063459  0.023451  0.027294\n",
       "NFLX  0.061630  0.054602  0.023451  0.208546  0.034530\n",
       "MSFT  0.032456  0.034727  0.027294  0.034530  0.053898"
      ]
     },
     "execution_count": 9,
     "metadata": {},
     "output_type": "execute_result"
    }
   ],
   "source": [
    "# Create and show the annualised covariance matrix\n",
    "\n",
    "cov_matrix_annual = returns.cov() * 252       # 252  = number of trading days in an year\n",
    "cov_matrix_annual"
   ]
  },
  {
   "cell_type": "code",
   "execution_count": 10,
   "metadata": {
    "colab": {
     "base_uri": "https://localhost:8080/",
     "height": 252
    },
    "id": "jT-IJZlnrME4",
    "outputId": "e025d4a3-12f5-406f-b53e-1819a987a3b5"
   },
   "outputs": [
    {
     "data": {
      "text/plain": [
       "0.05657803456379321"
      ]
     },
     "execution_count": 10,
     "metadata": {},
     "output_type": "execute_result"
    }
   ],
   "source": [
    "# Calculating portfolio variance\n",
    "\n",
    "port_variance = np.dot( np.transpose(weights), np.dot(cov_matrix_annual, weights))\n",
    "port_variance"
   ]
  },
  {
   "cell_type": "code",
   "execution_count": 11,
   "metadata": {
    "colab": {
     "base_uri": "https://localhost:8080/",
     "height": 217
    },
    "id": "ULAqrf7vrhQZ",
    "outputId": "aa89c9fb-7789-4860-9bdd-9ceccb249ead"
   },
   "outputs": [
    {
     "data": {
      "text/plain": [
       "0.23786137678024402"
      ]
     },
     "execution_count": 11,
     "metadata": {},
     "output_type": "execute_result"
    }
   ],
   "source": [
    "# Calulating portfolio volitility (= standard deviation)\n",
    "\n",
    "port_volatility = np.sqrt(port_variance)\n",
    "port_volatility"
   ]
  },
  {
   "cell_type": "code",
   "execution_count": 12,
   "metadata": {
    "colab": {
     "base_uri": "https://localhost:8080/",
     "height": 362
    },
    "id": "sgkslfCNry6n",
    "outputId": "9b7707cf-fdb9-4aef-c8c9-33543f52b671"
   },
   "outputs": [
    {
     "data": {
      "text/plain": [
       "0.39392433035768293"
      ]
     },
     "execution_count": 12,
     "metadata": {},
     "output_type": "execute_result"
    }
   ],
   "source": [
    "# Calculating annual portfolio return\n",
    "\n",
    "portfolioSimpleAnnualReturn = np.sum(returns.mean()*weights)*252\n",
    "portfolioSimpleAnnualReturn"
   ]
  },
  {
   "cell_type": "code",
   "execution_count": 13,
   "metadata": {
    "colab": {
     "base_uri": "https://localhost:8080/",
     "height": 234
    },
    "id": "yT8p-uhOsI6B",
    "outputId": "534a7a6a-64c7-4e69-f825-089aa22f1d7d"
   },
   "outputs": [
    {
     "name": "stdout",
     "output_type": "stream",
     "text": [
      "Expected Annual Return: 39.0%\n",
      "Annual Volatility/Risk: 24.0%\n",
      "Annual Variance: 6.0%\n"
     ]
    }
   ],
   "source": [
    "percent_var = str(round(port_variance,2)*100) + '%'\n",
    "percent_vols = str(round(port_volatility,2)*100)+'%'\n",
    "percent_ret = str(round(portfolioSimpleAnnualReturn,2)*100)+'%'\n",
    "\n",
    "print ('Expected Annual Return: ' + percent_ret)\n",
    "print ('Annual Volatility/Risk: ' + percent_vols)\n",
    "print ('Annual Variance: ' + percent_var)  "
   ]
  },
  {
   "cell_type": "code",
   "execution_count": 14,
   "metadata": {},
   "outputs": [],
   "source": [
    "from pypfopt.efficient_frontier import EfficientFrontier\n",
    "from pypfopt import risk_models\n",
    "from pypfopt import expected_returns\n",
    "from pypfopt.discrete_allocation import DiscreteAllocation, get_latest_prices"
   ]
  },
  {
   "cell_type": "code",
   "execution_count": 15,
   "metadata": {
    "id": "YRsX9cEStr3_"
   },
   "outputs": [
    {
     "name": "stdout",
     "output_type": "stream",
     "text": [
      "OrderedDict([('TSLA', 0.13843), ('AMZN', 0.07261), ('AAPL', 0.0564), ('NFLX', 0.25301), ('MSFT', 0.47955)])\n",
      "Expected annual return: 41.0%\n",
      "Annual volatility: 23.8%\n",
      "Sharpe Ratio: 1.64\n"
     ]
    },
    {
     "data": {
      "text/plain": [
       "(0.40967300352071684, 0.23782676616328022, 1.638474128909386)"
      ]
     },
     "execution_count": 15,
     "metadata": {},
     "output_type": "execute_result"
    }
   ],
   "source": [
    "# PortFolio Optimisation \n",
    "\n",
    "mu = expected_returns.mean_historical_return(df)\n",
    "S = risk_models.sample_cov(df)\n",
    "\n",
    "# Optimising for maximum Sharpe ratio (best trade-off for higher profit with lower risk)\n",
    "\n",
    "ef = EfficientFrontier(mu,S)\n",
    "weights = ef.max_sharpe()\n",
    "cleaned_weights = ef.clean_weights()\n",
    "print(cleaned_weights)\n",
    "ef.portfolio_performance(verbose = True)"
   ]
  },
  {
   "cell_type": "code",
   "execution_count": 16,
   "metadata": {
    "colab": {
     "base_uri": "https://localhost:8080/",
     "height": 380
    },
    "id": "bYCIDABWuxS-",
    "outputId": "285568da-6b3c-49f6-96bc-4a74219a0252"
   },
   "outputs": [
    {
     "name": "stdout",
     "output_type": "stream",
     "text": [
      "Funds remaining: 24.63\n",
      "TSLA: allocated 0.143, desired 0.138\n",
      "AMZN: allocated 0.075, desired 0.073\n",
      "AAPL: allocated 0.058, desired 0.056\n",
      "NFLX: allocated 0.246, desired 0.253\n",
      "MSFT: allocated 0.477, desired 0.480\n",
      "Allocation has RMSE: 0.004\n",
      "Discrete allocation: {'TSLA': 16, 'AMZN': 12, 'AAPL': 13, 'NFLX': 10, 'MSFT': 45}\n",
      "Funds remaining: $24.63\n"
     ]
    },
    {
     "name": "stderr",
     "output_type": "stream",
     "text": [
      "C:\\Users\\Asus\\anaconda3\\lib\\site-packages\\cvxpy\\problems\\problem.py:1337: UserWarning: Solution may be inaccurate. Try another solver, adjusting the solver settings, or solve with verbose=True for more information.\n",
      "  warnings.warn(\n"
     ]
    }
   ],
   "source": [
    "latest_prices = get_latest_prices(df)  \n",
    "weights = cleaned_weights\n",
    "da = DiscreteAllocation(weights, latest_prices, total_portfolio_value = 15000)       # 15000 is assumed to be the total amount we have to invest \n",
    "\n",
    "# Final allocation\n",
    "allocation , leftover = da.lp_portfolio(verbose = True)\n",
    "print ('Discrete allocation:',allocation)\n",
    "print('Funds remaining: ${:.2f}'.format(leftover))"
   ]
  }
 ],
 "metadata": {
  "colab": {
   "collapsed_sections": [],
   "name": "A1.ipynb",
   "provenance": []
  },
  "kernelspec": {
   "display_name": "Python 3 (ipykernel)",
   "language": "python",
   "name": "python3"
  },
  "language_info": {
   "codemirror_mode": {
    "name": "ipython",
    "version": 3
   },
   "file_extension": ".py",
   "mimetype": "text/x-python",
   "name": "python",
   "nbconvert_exporter": "python",
   "pygments_lexer": "ipython3",
   "version": "3.9.12"
  }
 },
 "nbformat": 4,
 "nbformat_minor": 1
}
